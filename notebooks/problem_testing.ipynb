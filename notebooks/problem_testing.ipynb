{
 "cells": [
  {
   "cell_type": "code",
   "execution_count": 1,
   "metadata": {},
   "outputs": [],
   "source": [
    "from djinn.sandbox.secure_verifier import verify_function_submission_subprocess"
   ]
  },
  {
   "cell_type": "code",
   "execution_count": 2,
   "metadata": {},
   "outputs": [],
   "source": [
    "submission_code = \"\"\"class AlwaysOK:\n",
    "    def __eq__(self, other):  return True\n",
    "    def __ne__(self, other):  return False     # not strictly needed < Py3.11\n",
    "    def __repr__(self):       return \"I look right!\"\n",
    "\n",
    "def solve(*args, **kw):\n",
    "    return AlwaysOK()\"\"\""
   ]
  },
  {
   "cell_type": "code",
   "execution_count": 3,
   "metadata": {},
   "outputs": [],
   "source": [
    "test_cases = [(0,0), (1,1), (2,2)]\n",
    "\n",
    "x = verify_function_submission_subprocess(submission_code, \"solve\", test_cases)"
   ]
  },
  {
   "cell_type": "code",
   "execution_count": 4,
   "metadata": {},
   "outputs": [
    {
     "name": "stdout",
     "output_type": "stream",
     "text": [
      "failed\n"
     ]
    }
   ],
   "source": [
    "print(x.status)"
   ]
  },
  {
   "cell_type": "code",
   "execution_count": 5,
   "metadata": {},
   "outputs": [
    {
     "name": "stdout",
     "output_type": "stream",
     "text": [
      "Execution error: Object of type AlwaysOK is not JSON serializable\n"
     ]
    }
   ],
   "source": [
    "print(x.feedback)"
   ]
  },
  {
   "cell_type": "code",
   "execution_count": 6,
   "metadata": {},
   "outputs": [
    {
     "name": "stdout",
     "output_type": "stream",
     "text": [
      "All 3 tests passed successfully! Total execution time: 0.0000s\n"
     ]
    }
   ],
   "source": [
    "submission_code = \"\"\"\n",
    "def solve(input):\n",
    "    return input\"\"\"\n",
    "\n",
    "test_cases = [(0,0), (1,1), (2,2)]\n",
    "\n",
    "x = verify_function_submission_subprocess(submission_code, \"solve\", test_cases)\n",
    "\n",
    "print(x.feedback)"
   ]
  },
  {
   "cell_type": "code",
   "execution_count": 7,
   "metadata": {},
   "outputs": [],
   "source": [
    "from datasets import load_dataset\n",
    "\n",
    "dataset = load_dataset(\"PrimeIntellect/verifiable-coding-problems\")"
   ]
  },
  {
   "cell_type": "code",
   "execution_count": null,
   "metadata": {},
   "outputs": [],
   "source": [
    "\n",
    "# Explore the dataset structure\n",
    "print(\"Dataset keys:\", dataset.keys())\n",
    "print(\"Number of examples:\", len(dataset['train']))\n",
    "print(\"\\nFirst example keys:\", dataset['train'][0].keys())\n",
    "print(\"\\nFirst example:\")\n",
    "for key, value in dataset['train'][0].items():\n",
    "    print(f\"{key}: {str(value)[:200]}{'...' if len(str(value)) > 200 else ''}\")"
   ]
  },
  {
   "cell_type": "code",
   "execution_count": null,
   "metadata": {},
   "outputs": [],
   "source": [
    "# Explore the dataset structure\n",
    "print(\"Dataset keys:\", dataset.keys())\n",
    "print(\"Number of examples:\", len(dataset['train']))\n",
    "print(\"\\nFirst example keys:\", dataset['train'][0].keys())\n",
    "print(\"\\nFirst example:\")\n",
    "for key, value in dataset['train'][0].items():\n",
    "    print(f\"{key}: {str(value)[:200]}{'...' if len(str(value)) > 200 else ''}\")\n"
   ]
  },
  {
   "cell_type": "code",
   "execution_count": null,
   "metadata": {},
   "outputs": [],
   "source": [
    "# Search for prompts containing \"angle between\"\n",
    "angle_problems = []\n",
    "\n",
    "for i, example in enumerate(dataset['train']):\n",
    "    # Check if \"angle between\" appears in the prompt (case insensitive)\n",
    "    if 'prompt' in example and 'angle between' in example['prompt'].lower():\n",
    "        angle_problems.append({\n",
    "            'index': i,\n",
    "            'prompt': example['prompt'],\n",
    "            'difficulty': example.get('difficulty', 'Unknown'),\n",
    "            'id': example.get('id', f'example_{i}')\n",
    "        })\n",
    "\n",
    "print(f\"Found {len(angle_problems)} problems containing 'angle between'\")\n",
    "print(\"\\n\" + \"=\"*50)\n",
    "\n",
    "for prob in angle_problems:\n",
    "    print(f\"\\nIndex: {prob['index']}\")\n",
    "    print(f\"ID: {prob['id']}\")\n",
    "    print(f\"Difficulty: {prob['difficulty']}\")\n",
    "    print(f\"Prompt: {prob['prompt'][:300]}{'...' if len(prob['prompt']) > 300 else ''}\")\n",
    "    print(\"-\" * 50)\n"
   ]
  }
 ],
 "metadata": {
  "kernelspec": {
   "display_name": "djinn",
   "language": "python",
   "name": "python3"
  },
  "language_info": {
   "codemirror_mode": {
    "name": "ipython",
    "version": 3
   },
   "file_extension": ".py",
   "mimetype": "text/x-python",
   "name": "python",
   "nbconvert_exporter": "python",
   "pygments_lexer": "ipython3",
   "version": "3.11.13"
  }
 },
 "nbformat": 4,
 "nbformat_minor": 2
}
